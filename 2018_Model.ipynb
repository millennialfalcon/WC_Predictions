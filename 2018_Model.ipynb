{
 "cells": [
  {
   "cell_type": "code",
   "execution_count": 1,
   "id": "2709abe4",
   "metadata": {},
   "outputs": [],
   "source": [
    "from operator import attrgetter\n",
    "from customClasses import * \n",
    "\n",
    "brazil = Team('Brazil', 2141)\n",
    "germany = Team('Germany', 2077)\n",
    "spain = Team('Spain', 2044)\n",
    "france = Team('France', 1986)\n",
    "argentina = Team('Argentina', 1985)\n",
    "portugal = Team('Portugal', 1969)\n",
    "england = Team('England', 1948)\n",
    "belgium = Team('Belgium', 1938)\n",
    "columbia = Team('Colombia', 1927)\n",
    "peru = Team('Peru', 1916)\n",
    "uruguay = Team('Uruguay', 1893)\n",
    "switzerland = Team('Switzerland', 1889)\n",
    "denmark = Team('Denmark', 1856)\n",
    "croatia = Team('Croatia', 1853)\n",
    "mexico = Team('Mexico', 1850)\n",
    "poland = Team('Poland', 1831)\n",
    "sweden = Team('Sweden', 1794)\n",
    "iran = Team('Iran', 1790)\n",
    "serbia = Team('Serbia', 1778)\n",
    "iceland = Team('Iceland', 1765)\n",
    "senegal = Team('Senegal', 1750)\n",
    "costa_rica = Team('Costa Rica', 1743)\n",
    "australia = Team('Australia', 1741)\n",
    "moroocco = Team('Morocco', 1733)\n",
    "south_korea = Team('South Korea', 1713)\n",
    "nigeria = Team('Nigeria', 1684)\n",
    "japan = Team('Japan', 1684)\n",
    "russia = Team('Russia', 1678)\n",
    "panama = Team('Panama', 1658)\n",
    "tunisia = Team('Tunisia', 1656)\n",
    "egypt = Team('Egypt', 1644)\n",
    "saudi_arabia = Team('Saudi Arabia', 1585)\n",
    "\n",
    "group_a = Group('Group A', [uruguay, russia, saudi_arabia, egypt], \n",
    "                [(russia, saudi_arabia), (egypt, uruguay), \n",
    "                (russia, egypt), (uruguay, saudi_arabia), \n",
    "                (uruguay, russia), (saudi_arabia, egypt)])\n",
    "\n",
    "group_b = Group('Group B', [spain, portugal, iran, moroocco], \n",
    "                [(moroocco, iran), (portugal, spain),\n",
    "                (portugal, moroocco), (iran, spain), \n",
    "                (iran, portugal), (spain, moroocco)])\n",
    "\n",
    "group_c = Group('Group C', [france, denmark, peru, australia], \n",
    "                [(france, australia), (peru, denmark), \n",
    "                (denmark, australia), (france, peru), \n",
    "                (denmark, france), (australia, peru)])\n",
    "\n",
    "group_d = Group('Group D', [croatia, argentina, nigeria, iceland],\n",
    "                [(argentina, iceland), (croatia, nigeria), \n",
    "                (argentina, croatia), (nigeria, iceland), \n",
    "                (nigeria, argentina), (iceland, croatia)]) \n",
    "\n",
    "group_e = Group('Group E', [brazil, switzerland, serbia, costa_rica], \n",
    "                [(costa_rica, serbia), (brazil, switzerland), \n",
    "                (brazil, costa_rica), (serbia, switzerland), \n",
    "                (serbia, brazil), (switzerland, costa_rica)])\n",
    "\n",
    "group_f = Group('Group F', [sweden, mexico, south_korea, germany], \n",
    "                [(germany, mexico), (sweden, south_korea), \n",
    "                (south_korea, mexico), (germany, sweden), \n",
    "                (south_korea, germany), (mexico, sweden)])\n",
    "\n",
    "group_g = Group('Group G', [belgium, england, tunisia, panama], \n",
    "                [(belgium, panama), (tunisia, england), \n",
    "                (belgium, tunisia), (england, panama), \n",
    "                (england, belgium), (panama, tunisia)])\n",
    "\n",
    "group_h = Group('Group H', [columbia, japan, senegal, poland], \n",
    "                [(columbia, japan), (poland, senegal), \n",
    "                (japan, senegal), (poland, columbia), \n",
    "                (japan, poland), (senegal, columbia)])\n",
    "\n",
    "groups = [group_a, group_b, group_c, group_d, group_e, group_f, group_g, group_h]\n",
    "teams = [team for group in groups for team in group.teams]"
   ]
  },
  {
   "cell_type": "code",
   "execution_count": 2,
   "id": "e38451b4",
   "metadata": {},
   "outputs": [],
   "source": [
    "groupWinners_irl = [uruguay, spain, france, croatia, brazil, sweden, belgium, columbia]\n",
    "groupRunnersUp_irl = [russia, portugal, denmark, argentina, switzerland, mexico, england, japan]\n",
    "knockoutCountries_irl = groupWinners_irl + groupRunnersUp_irl\n",
    "quarterFinalists_irl = [uruguay, france, brazil, belgium, russia, croatia, sweden, england]\n",
    "semiFinalists_irl = [france, belgium, croatia, england]\n",
    "finalists_irl = [france, croatia]\n",
    "winner_irl = [france]"
   ]
  },
  {
   "cell_type": "code",
   "execution_count": 3,
   "id": "a18407c8",
   "metadata": {},
   "outputs": [],
   "source": [
    "for team in teams: \n",
    "    team.reset_results()\n",
    "\n",
    "simNum = 10_000   \n",
    "for i in range(simNum): \n",
    "    groupResults = simulate_group_stage(groups)\n",
    "    knockoutResults = simulate_knockout(groupResults)"
   ]
  },
  {
   "cell_type": "code",
   "execution_count": 4,
   "id": "7368fc16",
   "metadata": {},
   "outputs": [
    {
     "name": "stdout",
     "output_type": "stream",
     "text": [
      "In 2018, France won the World Cup. This happened in our sim 6.67%. \n",
      "\n",
      "The top 5 most common champs in our model were: \n",
      "Brazil appeared 39.46%. \n",
      "Germany appeared 19.26%. \n",
      "Spain appeared 14.40%. \n",
      "France appeared 6.67%. \n",
      "Argentina appeared 5.24%. \n"
     ]
    }
   ],
   "source": [
    "champions = {}\n",
    "for team in teams:\n",
    "    champions[team.name] = team.champion\n",
    "\n",
    "champAcc = champions[winner_irl[0].name] / simNum\n",
    "\n",
    "#Championship Accuracy \n",
    "print(f'In 2018, France won the World Cup. This happened in our sim {champAcc:.2%}. ')\n",
    "\n",
    "mostCommonChamps = sorted(champions.items(), key = lambda x: x[1], reverse = True)\n",
    "print('\\nThe top 5 most common champs in our model were: ')\n",
    "for team, apps in mostCommonChamps[:5]: \n",
    "    print(f'{team} appeared {apps/simNum:.2%}. ')"
   ]
  },
  {
   "cell_type": "code",
   "execution_count": 5,
   "id": "8aaab7e0",
   "metadata": {},
   "outputs": [
    {
     "name": "stdout",
     "output_type": "stream",
     "text": [
      "In 2018, France played in the World Cup Finals. This happened 16.04% in our sim. \n",
      "In 2018, Croatia played in the World Cup Finals. This happened 1.65% in our sim. \n",
      "\n",
      "The top 10 most common finalists in our model were: \n",
      "Brazil appeared 53.94%. \n",
      "Germany appeared 37.94%. \n",
      "Spain appeared 30.12%. \n",
      "France appeared 16.04%. \n",
      "Argentina appeared 12.67%. \n",
      "Portugal appeared 10.54%. \n",
      "England appeared 8.11%. \n",
      "Colombia appeared 6.60%. \n",
      "Belgium appeared 5.91%. \n",
      "Peru appeared 4.58%. \n"
     ]
    }
   ],
   "source": [
    "finalists = {}\n",
    "for team in teams: \n",
    "    finalists[team.name] = team.finalist\n",
    "\n",
    "for team in finalists_irl: \n",
    "    teamAcc = finalists[team.name] / simNum\n",
    "    print(f'In 2018, {team.name} played in the World Cup Finals. This happened {teamAcc:.2%} in our sim. ')\n",
    "\n",
    "mostCommonFinalists = sorted(finalists.items(), key = lambda x: x[1], reverse=True)\n",
    "print(f'\\nThe top 10 most common finalists in our model were: ')\n",
    "for team, apps in mostCommonFinalists[:10]: \n",
    "    print(f'{team} appeared {apps/simNum:.2%}. ')"
   ]
  },
  {
   "cell_type": "code",
   "execution_count": 6,
   "id": "5f2503c3",
   "metadata": {},
   "outputs": [
    {
     "name": "stdout",
     "output_type": "stream",
     "text": [
      "In 2018, France played in semi-finals. This happened 41.79% in our sim. \n",
      "In 2018, Belgium played in semi-finals. This happened 15.08% in our sim. \n",
      "In 2018, Croatia played in semi-finals. This happened 6.66% in our sim. \n",
      "In 2018, England played in semi-finals. This happened 17.44% in our sim. \n",
      "\n",
      "The top 10 most common finalists in our model were: \n",
      "Brazil appeared 68.21%. \n",
      "Spain appeared 58.65%. \n",
      "Germany appeared 56.96%. \n",
      "France appeared 41.79%. \n",
      "Portugal appeared 29.53%. \n",
      "Argentina appeared 27.62%. \n",
      "Colombia appeared 18.27%. \n",
      "England appeared 17.44%. \n",
      "Belgium appeared 15.08%. \n",
      "Peru appeared 14.88%. \n"
     ]
    }
   ],
   "source": [
    "#semi finalists \n",
    "semi_finalists = {}\n",
    "for team in teams: \n",
    "    semi_finalists[team.name] = team.semi_finalist\n",
    "\n",
    "for team in semiFinalists_irl: \n",
    "    teamAcc = semi_finalists[team.name] / simNum\n",
    "    print(f'In 2018, {team.name} played in semi-finals. This happened {teamAcc:.2%} in our sim. ')\n",
    "\n",
    "mostCommonSemis = sorted(semi_finalists.items(), key = lambda x: x[1], reverse = True)\n",
    "print(f'\\nThe top 10 most common finalists in our model were: ')\n",
    "for team, apps in mostCommonSemis[:10]: \n",
    "    print(f'{team} appeared {apps/simNum:.2%}. ')"
   ]
  },
  {
   "cell_type": "code",
   "execution_count": 7,
   "id": "87fe4144",
   "metadata": {},
   "outputs": [
    {
     "name": "stdout",
     "output_type": "stream",
     "text": [
      "In 2018, Uruguay played in the quarter-finals. This happened 11.44% in our sim. \n",
      "In 2018, France played in the quarter-finals. This happened 41.79% in our sim. \n",
      "In 2018, Brazil played in the quarter-finals. This happened 68.21% in our sim. \n",
      "In 2018, Belgium played in the quarter-finals. This happened 15.08% in our sim. \n",
      "In 2018, Russia played in the quarter-finals. This happened 0.97% in our sim. \n",
      "In 2018, Croatia played in the quarter-finals. This happened 6.66% in our sim. \n",
      "In 2018, Sweden played in the quarter-finals. This happened 1.61% in our sim. \n",
      "In 2018, England played in the quarter-finals. This happened 17.44% in our sim. \n",
      "\n",
      "The top 20 most common quarter finalists were: \n",
      "Spain appeared 84.72%. \n",
      "Brazil appeared 82.71%. \n",
      "Germany appeared 72.95%. \n",
      "France appeared 64.59%. \n",
      "Argentina appeared 63.74%. \n",
      "Portugal appeared 62.60%. \n",
      "England appeared 61.91%. \n",
      "Colombia appeared 55.38%. \n",
      "Belgium appeared 50.80%. \n",
      "Peru appeared 33.61%. \n",
      "Uruguay appeared 33.11%. \n",
      "Poland appeared 21.73%. \n",
      "Switzerland appeared 20.30%. \n",
      "Croatia appeared 20.20%. \n",
      "Mexico appeared 13.76%. \n",
      "Denmark appeared 10.37%. \n",
      "Iran appeared 7.62%. \n",
      "Russia appeared 6.29%. \n",
      "Sweden appeared 4.85%. \n",
      "Senegal appeared 4.85%. \n"
     ]
    }
   ],
   "source": [
    "quarterFinalists = {}\n",
    "for team in teams: \n",
    "    quarterFinalists[team.name] = team.quarter_finalist\n",
    "\n",
    "for team in quarterFinalists_irl: \n",
    "    teamAcc = semi_finalists[team.name] / simNum\n",
    "    print(f'In 2018, {team.name} played in the quarter-finals. This happened {teamAcc:.2%} in our sim. ')\n",
    "\n",
    "mostCommonQuarters = sorted(quarterFinalists.items(), key = lambda x: x[1], reverse = True)\n",
    "print(f'\\nThe top 20 most common quarter finalists were: ')\n",
    "for team, apps in mostCommonQuarters[:20]: \n",
    "    print(f'{team} appeared {apps/simNum:.2%}. ')"
   ]
  },
  {
   "cell_type": "code",
   "execution_count": 8,
   "id": "5dff44eb",
   "metadata": {},
   "outputs": [
    {
     "name": "stdout",
     "output_type": "stream",
     "text": [
      "In 2018, Uruguay played in the Round of 16. This happened 96.50% in our sim. \n",
      "In 2018, Spain played in the Round of 16. This happened 95.12% in our sim. \n",
      "In 2018, France played in the Round of 16. This happened 90.12% in our sim. \n",
      "In 2018, Croatia played in the Round of 16. This happened 74.04% in our sim. \n",
      "In 2018, Brazil played in the Round of 16. This happened 98.36% in our sim. \n",
      "In 2018, Sweden played in the Round of 16. This happened 26.93% in our sim. \n",
      "In 2018, Belgium played in the Round of 16. This happened 90.09% in our sim. \n",
      "In 2018, Colombia played in the Round of 16. This happened 92.40% in our sim. \n",
      "In 2018, Russia played in the Round of 16. This happened 65.12% in our sim. \n",
      "In 2018, Portugal played in the Round of 16. This happened 82.61% in our sim. \n",
      "In 2018, Denmark played in the Round of 16. This happened 27.25% in our sim. \n",
      "In 2018, Argentina played in the Round of 16. This happened 95.31% in our sim. \n",
      "In 2018, Switzerland played in the Round of 16. This happened 75.94% in our sim. \n",
      "In 2018, Mexico played in the Round of 16. This happened 68.71% in our sim. \n",
      "In 2018, England played in the Round of 16. This happened 91.04% in our sim. \n",
      "In 2018, Japan played in the Round of 16. This happened 9.98% in our sim. \n",
      "\n",
      "The top 25 most common teams in the knockout stage were: \n",
      "Brazil appeared 98.36%. \n",
      "Germany appeared 97.55%. \n",
      "Uruguay appeared 96.50%. \n",
      "Argentina appeared 95.31%. \n",
      "Spain appeared 95.12%. \n",
      "Colombia appeared 92.40%. \n",
      "England appeared 91.04%. \n",
      "France appeared 90.12%. \n",
      "Belgium appeared 90.09%. \n",
      "Portugal appeared 82.61%. \n",
      "Switzerland appeared 75.94%. \n",
      "Peru appeared 75.37%. \n",
      "Poland appeared 74.99%. \n",
      "Croatia appeared 74.04%. \n",
      "Mexico appeared 68.71%. \n",
      "Russia appeared 65.12%. \n",
      "Egypt appeared 27.25%. \n",
      "Denmark appeared 27.25%. \n",
      "Sweden appeared 26.93%. \n",
      "Iceland appeared 22.90%. \n"
     ]
    }
   ],
   "source": [
    "knockoutCountries = {}\n",
    "\n",
    "for team in teams: \n",
    "    knockoutCountries[team.name] = team.groupWinner + team.groupRunnerUp\n",
    "\n",
    "for team in knockoutCountries_irl: \n",
    "    teamAcc = knockoutCountries[team.name] / simNum\n",
    "    print(f'In 2018, {team.name} played in the Round of 16. This happened {teamAcc:.2%} in our sim. ')\n",
    "\n",
    "mostCommonKnockouts = sorted(knockoutCountries.items(), key = lambda x: x[1], reverse = True)\n",
    "print(f'\\nThe top 25 most common teams in the knockout stage were: ')\n",
    "for team, apps in mostCommonKnockouts[:20]: \n",
    "    print(f'{team} appeared {apps/simNum:.2%}. ')"
   ]
  },
  {
   "cell_type": "code",
   "execution_count": 9,
   "id": "0d2485f2",
   "metadata": {},
   "outputs": [
    {
     "name": "stdout",
     "output_type": "stream",
     "text": [
      "In 2018, Uruguay won Group A. In our sim, that happened 83.40% of the time. \n",
      "Uruguay was the most common group winner in our sim. They won 83.40%.\n",
      "\n",
      "In 2018, Spain won Group B. In our sim, that happened 77.50% of the time. \n",
      "Spain was the most common group winner in our sim. They won 77.50%.\n",
      "\n",
      "In 2018, France won Group C. In our sim, that happened 70.26% of the time. \n",
      "France was the most common group winner in our sim. They won 70.26%.\n",
      "\n",
      "In 2018, Croatia won Group D. In our sim, that happened 14.59% of the time. \n",
      "Croatia was the most common group winner in our sim. They won 14.59%.\n",
      "\n",
      "In 2018, Brazil won Group E. In our sim, that happened 89.39% of the time. \n",
      "Brazil was the most common group winner in our sim. They won 89.39%.\n",
      "\n",
      "In 2018, Sweden won Group F. In our sim, that happened 4.91% of the time. \n",
      "Germany was the most common group winner in our sim. They won 85.95%.\n",
      "\n",
      "In 2018, Belgium won Group G. In our sim, that happened 33.50% of the time. \n",
      "England was the most common group winner in our sim. They won 63.95%.\n",
      "\n",
      "In 2018, Colombia won Group H. In our sim, that happened 73.98% of the time. \n",
      "Colombia was the most common group winner in our sim. They won 73.98%.\n",
      "\n"
     ]
    }
   ],
   "source": [
    "for winner, group in zip(groupWinners_irl, groups):\n",
    "    groupWins = winner.groupWinner / simNum\n",
    "    print(f'In 2018, {winner.name} won {group.name}. In our sim, that happened {groupWins:.2%} of the time. ')\n",
    "    mostCommonGroupWinner = sorted([team for team in group.teams], key = attrgetter('points'), reverse = True)[0]\n",
    "    print(f'{mostCommonGroupWinner.name} was the most common group winner in our sim. They won {mostCommonGroupWinner.groupWinner/simNum:.2%}.\\n' )"
   ]
  },
  {
   "cell_type": "code",
   "execution_count": null,
   "id": "250adcee",
   "metadata": {},
   "outputs": [],
   "source": []
  }
 ],
 "metadata": {
  "kernelspec": {
   "display_name": "Python 3 (ipykernel)",
   "language": "python",
   "name": "python3"
  },
  "language_info": {
   "codemirror_mode": {
    "name": "ipython",
    "version": 3
   },
   "file_extension": ".py",
   "mimetype": "text/x-python",
   "name": "python",
   "nbconvert_exporter": "python",
   "pygments_lexer": "ipython3",
   "version": "3.8.13"
  },
  "vscode": {
   "interpreter": {
    "hash": "913aca690f42db90fc00f0222fc4fc35b203cd3f00e7d4f09fdf0319f3b3c22e"
   }
  }
 },
 "nbformat": 4,
 "nbformat_minor": 5
}
